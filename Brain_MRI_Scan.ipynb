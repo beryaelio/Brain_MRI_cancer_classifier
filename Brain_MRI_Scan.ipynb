{
  "nbformat": 4,
  "nbformat_minor": 0,
  "metadata": {
    "colab": {
      "provenance": [],
      "authorship_tag": "ABX9TyMVotq0AtLkbNMnWFeVxetN",
      "include_colab_link": true
    },
    "kernelspec": {
      "name": "python3",
      "display_name": "Python 3"
    },
    "language_info": {
      "name": "python"
    }
  },
  "cells": [
    {
      "cell_type": "markdown",
      "metadata": {
        "id": "view-in-github",
        "colab_type": "text"
      },
      "source": [
        "<a href=\"https://colab.research.google.com/github/beryaelio/Brain_MRI_cancer_classifier/blob/main/Brain_MRI_Scan.ipynb\" target=\"_parent\"><img src=\"https://colab.research.google.com/assets/colab-badge.svg\" alt=\"Open In Colab\"/></a>"
      ]
    },
    {
      "cell_type": "code",
      "source": [
        "from skimage.feature import hog\n",
        "from skimage import io, color\n",
        "import numpy as np\n",
        "import os\n",
        "from sklearn.model_selection import train_test_split\n",
        "from sklearn.svm import SVC\n",
        "from sklearn.model_selection import GridSearchCV\n",
        "from sklearn.metrics import accuracy_score, precision_score, recall_score, f1_score, confusion_matrix\n",
        "from google.colab import drive\n",
        "drive.mount('/content/drive')"
      ],
      "metadata": {
        "colab": {
          "base_uri": "https://localhost:8080/"
        },
        "id": "-F95TSg05UjS",
        "outputId": "89866fbc-adad-4d29-89dd-9ced39931480"
      },
      "execution_count": 1,
      "outputs": [
        {
          "output_type": "stream",
          "name": "stdout",
          "text": [
            "Mounted at /content/drive\n"
          ]
        }
      ]
    },
    {
      "cell_type": "markdown",
      "source": [
        "In this notebook, I'll build and experiment with the SVM ML algorithm, that's supposed to work well classifying images. I'll use the Brain MRI scan images from the link:\n",
        "https://www.kaggle.com/datasets/volodymyrpivoshenko/brain-mri-scan-images-tumor-detection/data\n",
        "\n",
        "The task at hand is make a model that will be able to detect tumors is an MRI scan.\n",
        "\n",
        "At first I'll load the data -\n"
      ],
      "metadata": {
        "id": "A-TpBMZ89YZp"
      }
    },
    {
      "cell_type": "code",
      "execution_count": null,
      "metadata": {
        "id": "5R-eSLAfyQ-Y",
        "colab": {
          "base_uri": "https://localhost:8080/"
        },
        "outputId": "1961c361-34cc-4718-e874-2019643a344b"
      },
      "outputs": [
        {
          "output_type": "stream",
          "name": "stderr",
          "text": [
            "<ipython-input-142-be5093d11d57>:21: FutureWarning: `multichannel` is a deprecated argument name for `hog`. It will be removed in version 1.0. Please use `channel_axis` instead.\n",
            "  features = hog(gray_image, orientations=9, pixels_per_cell=(8, 8), cells_per_block=(2, 2), visualize=False, multichannel=False)\n"
          ]
        }
      ],
      "source": [
        "Positive = '/content/drive/MyDrive/brain_scan_db/brain_mri_scan_images/positive'\n",
        "Negative = '/content/drive/MyDrive/brain_scan_db/brain_mri_scan_images/negative'\n",
        "\n",
        "pos = os.listdir(Positive)\n",
        "neg = os.listdir(Negative)\n",
        "\n",
        "feature_vectors = []\n",
        "labels = []\n",
        "\n",
        "pos_files = [file for file in pos if file.lower().endswith('.jpg')]\n",
        "\n",
        "def extract_features(image):\n",
        "    if len(image.shape) == 3:\n",
        "        gray_image = color.rgb2gray(image)\n",
        "    else:\n",
        "        gray_image = image\n",
        "\n",
        "    if len(gray_image.shape) == 3:\n",
        "        gray_image = np.squeeze(gray_image)\n",
        "\n",
        "    features = hog(gray_image, orientations=9, pixels_per_cell=(8, 8), cells_per_block=(2, 2), visualize=False, multichannel=False)\n",
        "    return features\n",
        "\n",
        "for path in pos_files:\n",
        "    image = io.imread(Positive +'/'+ path, as_gray=True)\n",
        "\n",
        "    features = extract_features(image)\n",
        "    feature_vectors.append(features)\n",
        "    labels.append(1)\n",
        "\n",
        "for path in neg:\n",
        "    image = io.imread(Negative +'/'+ path, as_gray=True)\n",
        "    features = extract_features(image)\n",
        "    feature_vectors.append(features)\n",
        "    labels.append(0)\n"
      ]
    },
    {
      "cell_type": "markdown",
      "source": [
        "Now preparing the data for training and testing"
      ],
      "metadata": {
        "id": "DN4zGnKQ-X4h"
      }
    },
    {
      "cell_type": "code",
      "source": [
        "X = np.array(feature_vectors)\n",
        "y = np.array(labels)"
      ],
      "metadata": {
        "colab": {
          "base_uri": "https://localhost:8080/"
        },
        "id": "QTupbLNE5rje",
        "outputId": "84ff4fbf-3086-4c11-ba0c-cc949f071cfd"
      },
      "execution_count": null,
      "outputs": [
        {
          "output_type": "stream",
          "name": "stderr",
          "text": [
            "<ipython-input-143-9e802612536d>:1: VisibleDeprecationWarning: Creating an ndarray from ragged nested sequences (which is a list-or-tuple of lists-or-tuples-or ndarrays with different lengths or shapes) is deprecated. If you meant to do this, you must specify 'dtype=object' when creating the ndarray.\n",
            "  X = np.array(feature_vectors)\n"
          ]
        }
      ]
    },
    {
      "cell_type": "code",
      "source": [
        "X_train, X_test, y_train, y_test = train_test_split(X, y, test_size=0.2, random_state=42)"
      ],
      "metadata": {
        "id": "sDV4MnB8fBJL"
      },
      "execution_count": null,
      "outputs": []
    },
    {
      "cell_type": "markdown",
      "source": [
        "The SVM model building:\n",
        "I decided to set the kernel on linear because I have only one parameter. The C is set on 10 randomly."
      ],
      "metadata": {
        "id": "t55OqRzd-_HJ"
      }
    },
    {
      "cell_type": "code",
      "source": [
        "svm_classifier = SVC(C = 10, kernel='linear')\n",
        "\n",
        "X_train = [x[0] for x in X_train]\n",
        "X_train = np.array(X_train).reshape(-1, 1)\n",
        "y_train = np.array([y_train])\n",
        "y_train = y_train.flatten()\n",
        "\n",
        "svm_classifier.fit(X_train, y_train)"
      ],
      "metadata": {
        "colab": {
          "base_uri": "https://localhost:8080/",
          "height": 74
        },
        "id": "UbOSIYsjfFCH",
        "outputId": "8297669a-9481-4af4-dca3-50e94930469c"
      },
      "execution_count": null,
      "outputs": [
        {
          "output_type": "execute_result",
          "data": {
            "text/plain": [
              "SVC(C=10, kernel='linear')"
            ],
            "text/html": [
              "<style>#sk-container-id-7 {color: black;background-color: white;}#sk-container-id-7 pre{padding: 0;}#sk-container-id-7 div.sk-toggleable {background-color: white;}#sk-container-id-7 label.sk-toggleable__label {cursor: pointer;display: block;width: 100%;margin-bottom: 0;padding: 0.3em;box-sizing: border-box;text-align: center;}#sk-container-id-7 label.sk-toggleable__label-arrow:before {content: \"▸\";float: left;margin-right: 0.25em;color: #696969;}#sk-container-id-7 label.sk-toggleable__label-arrow:hover:before {color: black;}#sk-container-id-7 div.sk-estimator:hover label.sk-toggleable__label-arrow:before {color: black;}#sk-container-id-7 div.sk-toggleable__content {max-height: 0;max-width: 0;overflow: hidden;text-align: left;background-color: #f0f8ff;}#sk-container-id-7 div.sk-toggleable__content pre {margin: 0.2em;color: black;border-radius: 0.25em;background-color: #f0f8ff;}#sk-container-id-7 input.sk-toggleable__control:checked~div.sk-toggleable__content {max-height: 200px;max-width: 100%;overflow: auto;}#sk-container-id-7 input.sk-toggleable__control:checked~label.sk-toggleable__label-arrow:before {content: \"▾\";}#sk-container-id-7 div.sk-estimator input.sk-toggleable__control:checked~label.sk-toggleable__label {background-color: #d4ebff;}#sk-container-id-7 div.sk-label input.sk-toggleable__control:checked~label.sk-toggleable__label {background-color: #d4ebff;}#sk-container-id-7 input.sk-hidden--visually {border: 0;clip: rect(1px 1px 1px 1px);clip: rect(1px, 1px, 1px, 1px);height: 1px;margin: -1px;overflow: hidden;padding: 0;position: absolute;width: 1px;}#sk-container-id-7 div.sk-estimator {font-family: monospace;background-color: #f0f8ff;border: 1px dotted black;border-radius: 0.25em;box-sizing: border-box;margin-bottom: 0.5em;}#sk-container-id-7 div.sk-estimator:hover {background-color: #d4ebff;}#sk-container-id-7 div.sk-parallel-item::after {content: \"\";width: 100%;border-bottom: 1px solid gray;flex-grow: 1;}#sk-container-id-7 div.sk-label:hover label.sk-toggleable__label {background-color: #d4ebff;}#sk-container-id-7 div.sk-serial::before {content: \"\";position: absolute;border-left: 1px solid gray;box-sizing: border-box;top: 0;bottom: 0;left: 50%;z-index: 0;}#sk-container-id-7 div.sk-serial {display: flex;flex-direction: column;align-items: center;background-color: white;padding-right: 0.2em;padding-left: 0.2em;position: relative;}#sk-container-id-7 div.sk-item {position: relative;z-index: 1;}#sk-container-id-7 div.sk-parallel {display: flex;align-items: stretch;justify-content: center;background-color: white;position: relative;}#sk-container-id-7 div.sk-item::before, #sk-container-id-7 div.sk-parallel-item::before {content: \"\";position: absolute;border-left: 1px solid gray;box-sizing: border-box;top: 0;bottom: 0;left: 50%;z-index: -1;}#sk-container-id-7 div.sk-parallel-item {display: flex;flex-direction: column;z-index: 1;position: relative;background-color: white;}#sk-container-id-7 div.sk-parallel-item:first-child::after {align-self: flex-end;width: 50%;}#sk-container-id-7 div.sk-parallel-item:last-child::after {align-self: flex-start;width: 50%;}#sk-container-id-7 div.sk-parallel-item:only-child::after {width: 0;}#sk-container-id-7 div.sk-dashed-wrapped {border: 1px dashed gray;margin: 0 0.4em 0.5em 0.4em;box-sizing: border-box;padding-bottom: 0.4em;background-color: white;}#sk-container-id-7 div.sk-label label {font-family: monospace;font-weight: bold;display: inline-block;line-height: 1.2em;}#sk-container-id-7 div.sk-label-container {text-align: center;}#sk-container-id-7 div.sk-container {/* jupyter's `normalize.less` sets `[hidden] { display: none; }` but bootstrap.min.css set `[hidden] { display: none !important; }` so we also need the `!important` here to be able to override the default hidden behavior on the sphinx rendered scikit-learn.org. See: https://github.com/scikit-learn/scikit-learn/issues/21755 */display: inline-block !important;position: relative;}#sk-container-id-7 div.sk-text-repr-fallback {display: none;}</style><div id=\"sk-container-id-7\" class=\"sk-top-container\"><div class=\"sk-text-repr-fallback\"><pre>SVC(C=10, kernel=&#x27;linear&#x27;)</pre><b>In a Jupyter environment, please rerun this cell to show the HTML representation or trust the notebook. <br />On GitHub, the HTML representation is unable to render, please try loading this page with nbviewer.org.</b></div><div class=\"sk-container\" hidden><div class=\"sk-item\"><div class=\"sk-estimator sk-toggleable\"><input class=\"sk-toggleable__control sk-hidden--visually\" id=\"sk-estimator-id-7\" type=\"checkbox\" checked><label for=\"sk-estimator-id-7\" class=\"sk-toggleable__label sk-toggleable__label-arrow\">SVC</label><div class=\"sk-toggleable__content\"><pre>SVC(C=10, kernel=&#x27;linear&#x27;)</pre></div></div></div></div></div>"
            ]
          },
          "metadata": {},
          "execution_count": 151
        }
      ]
    },
    {
      "cell_type": "markdown",
      "source": [
        "Now that the model is fit with the train sections, the testing can be done and evaluated."
      ],
      "metadata": {
        "id": "4E6v0R1L_wLv"
      }
    },
    {
      "cell_type": "code",
      "source": [
        "X_test = [x[0] for x in X_test]\n",
        "X_test = np.array(X_test).reshape(-1, 1)\n",
        "\n",
        "predictions = svm_classifier.predict(X_test)"
      ],
      "metadata": {
        "id": "jyHwGBNjpi55"
      },
      "execution_count": null,
      "outputs": []
    },
    {
      "cell_type": "markdown",
      "source": [
        "The evaluation metrics' scores:"
      ],
      "metadata": {
        "id": "ZHAerQy-BCTZ"
      }
    },
    {
      "cell_type": "code",
      "source": [
        "accuracy = accuracy_score(y_test, predictions)\n",
        "print(\"Accuracy:\", accuracy)\n",
        "\n",
        "precision = precision_score(y_test, predictions)\n",
        "print(\"Precision:\", precision)\n",
        "\n",
        "recall = recall_score(y_test, predictions)\n",
        "print(\"Recall:\", recall)\n",
        "\n",
        "f1 = f1_score(y_test, predictions)\n",
        "print(\"F1-score:\", f1)\n",
        "\n",
        "conf_matrix = confusion_matrix(y_test, predictions)\n",
        "print(\"Confusion Matrix:\")\n",
        "print(conf_matrix)\n"
      ],
      "metadata": {
        "colab": {
          "base_uri": "https://localhost:8080/"
        },
        "id": "iEI_LpXGqknt",
        "outputId": "745b46ee-06b7-49a1-c8c5-1fd8c13e2761"
      },
      "execution_count": null,
      "outputs": [
        {
          "output_type": "stream",
          "name": "stdout",
          "text": [
            "Accuracy: 0.6739130434782609\n",
            "Precision: 0.6739130434782609\n",
            "Recall: 1.0\n",
            "F1-score: 0.8051948051948052\n",
            "Confusion Matrix:\n",
            "[[ 0 15]\n",
            " [ 0 31]]\n"
          ]
        }
      ]
    },
    {
      "cell_type": "markdown",
      "source": [
        "The SVM model has f1-score of approx. 0.805.\n",
        "I'll try to find better parameters for the model using the GridSearchCV."
      ],
      "metadata": {
        "id": "rNeL4oWxBKMm"
      }
    },
    {
      "cell_type": "code",
      "source": [
        "param_grid = {'C': [0.1, 1, 10],\n",
        "              'kernel': ['linear', 'rbf', 'poly']}\n",
        "\n",
        "grid_search = GridSearchCV(SVC(), param_grid, cv=5, scoring='f1')\n",
        "grid_search.fit(X_train, y_train)\n",
        "best_params = grid_search.best_params_\n",
        "print(\"best params: \",best_params)\n",
        "best_model = grid_search.best_estimator_\n",
        "print(\"best model: \",best_model)\n"
      ],
      "metadata": {
        "colab": {
          "base_uri": "https://localhost:8080/"
        },
        "id": "QwUba830q2zN",
        "outputId": "998533d7-9b14-401b-ccb6-ad5e8fe85c3b"
      },
      "execution_count": null,
      "outputs": [
        {
          "output_type": "stream",
          "name": "stdout",
          "text": [
            "best params:  {'C': 0.1, 'kernel': 'linear'}\n",
            "best model:  SVC(C=0.1, kernel='linear')\n"
          ]
        }
      ]
    },
    {
      "cell_type": "markdown",
      "source": [
        "The GridSearch says the optimal parameters are 'linear' and C = 0.1\n",
        "I'll try to run the model and evaluate it again but with the updated parameters"
      ],
      "metadata": {
        "id": "PsQKOqi-Bo59"
      }
    },
    {
      "cell_type": "code",
      "source": [
        "X_train, X_test, y_train, y_test = train_test_split(X, y, test_size=0.2, random_state=42)\n",
        "\n",
        "svm_classifier = SVC(C = 0.1, kernel='linear')\n",
        "\n",
        "X_train = [x[0] for x in X_train]\n",
        "X_train = np.array(X_train).reshape(-1, 1)\n",
        "y_train = np.array([y_train])\n",
        "y_train = y_train.flatten()\n",
        "\n",
        "svm_classifier.fit(X_train, y_train)\n",
        "\n",
        "X_test = [x[0] for x in X_test]\n",
        "X_test = np.array(X_test).reshape(-1, 1)\n",
        "predictions = svm_classifier.predict(X_test)\n",
        "\n",
        "accuracy = accuracy_score(y_test, predictions)\n",
        "print(\"Accuracy:\", accuracy)\n",
        "\n",
        "precision = precision_score(y_test, predictions)\n",
        "print(\"Precision:\", precision)\n",
        "\n",
        "recall = recall_score(y_test, predictions)\n",
        "print(\"Recall:\", recall)\n",
        "\n",
        "f1 = f1_score(y_test, predictions)\n",
        "print(\"F1-score:\", f1)\n",
        "\n",
        "conf_matrix = confusion_matrix(y_test, predictions)\n",
        "print(\"Confusion Matrix:\")\n",
        "print(conf_matrix)"
      ],
      "metadata": {
        "colab": {
          "base_uri": "https://localhost:8080/"
        },
        "id": "sZcnMR4GvUmQ",
        "outputId": "b1138c95-ab9c-4c3d-8819-83699421317b"
      },
      "execution_count": null,
      "outputs": [
        {
          "output_type": "stream",
          "name": "stdout",
          "text": [
            "Accuracy: 0.6739130434782609\n",
            "Precision: 0.6739130434782609\n",
            "Recall: 1.0\n",
            "F1-score: 0.8051948051948052\n",
            "Confusion Matrix:\n",
            "[[ 0 15]\n",
            " [ 0 31]]\n"
          ]
        }
      ]
    },
    {
      "cell_type": "markdown",
      "source": [
        "The model's performance hasn't changed. using SVM I inffer it's the best outcome.\n",
        "The model successfully identifies all positive images, and there are no false negatives. there's a problem with the false positives but it's ok for me.\n",
        "The project is done."
      ],
      "metadata": {
        "id": "n_DMD5WEB_5S"
      }
    }
  ]
}